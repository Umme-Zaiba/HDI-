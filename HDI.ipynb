{
  "nbformat": 4,
  "nbformat_minor": 0,
  "metadata": {
    "colab": {
      "provenance": [],
      "authorship_tag": "ABX9TyNAPOQxP98/nmy1Sfy8vrZA",
      "include_colab_link": true
    },
    "kernelspec": {
      "name": "python3",
      "display_name": "Python 3"
    },
    "language_info": {
      "name": "python"
    }
  },
  "cells": [
    {
      "cell_type": "markdown",
      "metadata": {
        "id": "view-in-github",
        "colab_type": "text"
      },
      "source": [
        "<a href=\"https://colab.research.google.com/github/Umme-Zaiba/HDI-/blob/main/HDI.ipynb\" target=\"_parent\"><img src=\"https://colab.research.google.com/assets/colab-badge.svg\" alt=\"Open In Colab\"/></a>"
      ]
    },
    {
      "cell_type": "markdown",
      "source": [
        "DATASET - HUMAN DEVELOPMENT INDEX DATASET"
      ],
      "metadata": {
        "id": "A4qu-Dvl-rCm"
      }
    },
    {
      "cell_type": "markdown",
      "source": [
        "1.Including  a data and creating a dataframe."
      ],
      "metadata": {
        "id": "uoWYkEs1_75N"
      }
    },
    {
      "cell_type": "code",
      "source": [
        "import pandas as pd\n",
        "df= pd.read_csv('https://raw.githubusercontent.com/Umme-Zaiba/HDI-/main/HDI_dataset.csv')\n",
        "df\n"
      ],
      "metadata": {
        "colab": {
          "base_uri": "https://localhost:8080/",
          "height": 519
        },
        "id": "gDMeZBWU-6ad",
        "outputId": "1be70c49-e9fa-451e-d84d-62ea5323393f"
      },
      "execution_count": 1,
      "outputs": [
        {
          "output_type": "execute_result",
          "data": {
            "text/plain": [
              "     HDI rank                   Country  Human Development Index (HDI)  \\\n",
              "0           1               Switzerland                          0.962   \n",
              "1           2                    Norway                          0.961   \n",
              "2           3                   Iceland                          0.959   \n",
              "3           4    Hong Kong, China (SAR)                          0.952   \n",
              "4           5                 Australia                          0.951   \n",
              "..        ...                       ...                            ...   \n",
              "186       187                   Burundi                          0.426   \n",
              "187       188  Central African Republic                          0.404   \n",
              "188       189                     Niger                          0.400   \n",
              "189       190                      Chad                          0.394   \n",
              "190       191               South Sudan                          0.385   \n",
              "\n",
              "     Life expectancy at birth  Expected years of schooling  \\\n",
              "0                        84.0                         16.5   \n",
              "1                        83.2                         18.2   \n",
              "2                        82.7                         19.2   \n",
              "3                        85.5                         17.3   \n",
              "4                        84.5                         21.1   \n",
              "..                        ...                          ...   \n",
              "186                      61.7                         10.7   \n",
              "187                      53.9                          8.0   \n",
              "188                      61.6                          7.0   \n",
              "189                      52.5                          8.0   \n",
              "190                      55.0                          5.5   \n",
              "\n",
              "     Mean years of schooling Gross national income (GNI) per capita  \\\n",
              "0                       13.9                                 66,933   \n",
              "1                       13.0                                 64,660   \n",
              "2                       13.8                                 55,782   \n",
              "3                       12.2                                 62,607   \n",
              "4                       12.7                                 49,238   \n",
              "..                       ...                                    ...   \n",
              "186                      3.1                                    732   \n",
              "187                      4.3                                    966   \n",
              "188                      2.1                                  1,240   \n",
              "189                      2.6                                  1,364   \n",
              "190                      5.7                                    768   \n",
              "\n",
              "     GNI per capita rank minus HDI rank  HDI rank.1  \n",
              "0                                     5           3  \n",
              "1                                     6           1  \n",
              "2                                    11           2  \n",
              "3                                     6           4  \n",
              "4                                    18           5  \n",
              "..                                  ...         ...  \n",
              "186                                   4         187  \n",
              "187                                   1         188  \n",
              "188                                  -3         189  \n",
              "189                                  -7         190  \n",
              "190                                  -1         191  \n",
              "\n",
              "[191 rows x 9 columns]"
            ],
            "text/html": [
              "\n",
              "  <div id=\"df-9ea54de3-47e1-4954-a3d5-7b1ce61472b9\">\n",
              "    <div class=\"colab-df-container\">\n",
              "      <div>\n",
              "<style scoped>\n",
              "    .dataframe tbody tr th:only-of-type {\n",
              "        vertical-align: middle;\n",
              "    }\n",
              "\n",
              "    .dataframe tbody tr th {\n",
              "        vertical-align: top;\n",
              "    }\n",
              "\n",
              "    .dataframe thead th {\n",
              "        text-align: right;\n",
              "    }\n",
              "</style>\n",
              "<table border=\"1\" class=\"dataframe\">\n",
              "  <thead>\n",
              "    <tr style=\"text-align: right;\">\n",
              "      <th></th>\n",
              "      <th>HDI rank</th>\n",
              "      <th>Country</th>\n",
              "      <th>Human Development Index (HDI)</th>\n",
              "      <th>Life expectancy at birth</th>\n",
              "      <th>Expected years of schooling</th>\n",
              "      <th>Mean years of schooling</th>\n",
              "      <th>Gross national income (GNI) per capita</th>\n",
              "      <th>GNI per capita rank minus HDI rank</th>\n",
              "      <th>HDI rank.1</th>\n",
              "    </tr>\n",
              "  </thead>\n",
              "  <tbody>\n",
              "    <tr>\n",
              "      <th>0</th>\n",
              "      <td>1</td>\n",
              "      <td>Switzerland</td>\n",
              "      <td>0.962</td>\n",
              "      <td>84.0</td>\n",
              "      <td>16.5</td>\n",
              "      <td>13.9</td>\n",
              "      <td>66,933</td>\n",
              "      <td>5</td>\n",
              "      <td>3</td>\n",
              "    </tr>\n",
              "    <tr>\n",
              "      <th>1</th>\n",
              "      <td>2</td>\n",
              "      <td>Norway</td>\n",
              "      <td>0.961</td>\n",
              "      <td>83.2</td>\n",
              "      <td>18.2</td>\n",
              "      <td>13.0</td>\n",
              "      <td>64,660</td>\n",
              "      <td>6</td>\n",
              "      <td>1</td>\n",
              "    </tr>\n",
              "    <tr>\n",
              "      <th>2</th>\n",
              "      <td>3</td>\n",
              "      <td>Iceland</td>\n",
              "      <td>0.959</td>\n",
              "      <td>82.7</td>\n",
              "      <td>19.2</td>\n",
              "      <td>13.8</td>\n",
              "      <td>55,782</td>\n",
              "      <td>11</td>\n",
              "      <td>2</td>\n",
              "    </tr>\n",
              "    <tr>\n",
              "      <th>3</th>\n",
              "      <td>4</td>\n",
              "      <td>Hong Kong, China (SAR)</td>\n",
              "      <td>0.952</td>\n",
              "      <td>85.5</td>\n",
              "      <td>17.3</td>\n",
              "      <td>12.2</td>\n",
              "      <td>62,607</td>\n",
              "      <td>6</td>\n",
              "      <td>4</td>\n",
              "    </tr>\n",
              "    <tr>\n",
              "      <th>4</th>\n",
              "      <td>5</td>\n",
              "      <td>Australia</td>\n",
              "      <td>0.951</td>\n",
              "      <td>84.5</td>\n",
              "      <td>21.1</td>\n",
              "      <td>12.7</td>\n",
              "      <td>49,238</td>\n",
              "      <td>18</td>\n",
              "      <td>5</td>\n",
              "    </tr>\n",
              "    <tr>\n",
              "      <th>...</th>\n",
              "      <td>...</td>\n",
              "      <td>...</td>\n",
              "      <td>...</td>\n",
              "      <td>...</td>\n",
              "      <td>...</td>\n",
              "      <td>...</td>\n",
              "      <td>...</td>\n",
              "      <td>...</td>\n",
              "      <td>...</td>\n",
              "    </tr>\n",
              "    <tr>\n",
              "      <th>186</th>\n",
              "      <td>187</td>\n",
              "      <td>Burundi</td>\n",
              "      <td>0.426</td>\n",
              "      <td>61.7</td>\n",
              "      <td>10.7</td>\n",
              "      <td>3.1</td>\n",
              "      <td>732</td>\n",
              "      <td>4</td>\n",
              "      <td>187</td>\n",
              "    </tr>\n",
              "    <tr>\n",
              "      <th>187</th>\n",
              "      <td>188</td>\n",
              "      <td>Central African Republic</td>\n",
              "      <td>0.404</td>\n",
              "      <td>53.9</td>\n",
              "      <td>8.0</td>\n",
              "      <td>4.3</td>\n",
              "      <td>966</td>\n",
              "      <td>1</td>\n",
              "      <td>188</td>\n",
              "    </tr>\n",
              "    <tr>\n",
              "      <th>188</th>\n",
              "      <td>189</td>\n",
              "      <td>Niger</td>\n",
              "      <td>0.400</td>\n",
              "      <td>61.6</td>\n",
              "      <td>7.0</td>\n",
              "      <td>2.1</td>\n",
              "      <td>1,240</td>\n",
              "      <td>-3</td>\n",
              "      <td>189</td>\n",
              "    </tr>\n",
              "    <tr>\n",
              "      <th>189</th>\n",
              "      <td>190</td>\n",
              "      <td>Chad</td>\n",
              "      <td>0.394</td>\n",
              "      <td>52.5</td>\n",
              "      <td>8.0</td>\n",
              "      <td>2.6</td>\n",
              "      <td>1,364</td>\n",
              "      <td>-7</td>\n",
              "      <td>190</td>\n",
              "    </tr>\n",
              "    <tr>\n",
              "      <th>190</th>\n",
              "      <td>191</td>\n",
              "      <td>South Sudan</td>\n",
              "      <td>0.385</td>\n",
              "      <td>55.0</td>\n",
              "      <td>5.5</td>\n",
              "      <td>5.7</td>\n",
              "      <td>768</td>\n",
              "      <td>-1</td>\n",
              "      <td>191</td>\n",
              "    </tr>\n",
              "  </tbody>\n",
              "</table>\n",
              "<p>191 rows × 9 columns</p>\n",
              "</div>\n",
              "      <button class=\"colab-df-convert\" onclick=\"convertToInteractive('df-9ea54de3-47e1-4954-a3d5-7b1ce61472b9')\"\n",
              "              title=\"Convert this dataframe to an interactive table.\"\n",
              "              style=\"display:none;\">\n",
              "        \n",
              "  <svg xmlns=\"http://www.w3.org/2000/svg\" height=\"24px\"viewBox=\"0 0 24 24\"\n",
              "       width=\"24px\">\n",
              "    <path d=\"M0 0h24v24H0V0z\" fill=\"none\"/>\n",
              "    <path d=\"M18.56 5.44l.94 2.06.94-2.06 2.06-.94-2.06-.94-.94-2.06-.94 2.06-2.06.94zm-11 1L8.5 8.5l.94-2.06 2.06-.94-2.06-.94L8.5 2.5l-.94 2.06-2.06.94zm10 10l.94 2.06.94-2.06 2.06-.94-2.06-.94-.94-2.06-.94 2.06-2.06.94z\"/><path d=\"M17.41 7.96l-1.37-1.37c-.4-.4-.92-.59-1.43-.59-.52 0-1.04.2-1.43.59L10.3 9.45l-7.72 7.72c-.78.78-.78 2.05 0 2.83L4 21.41c.39.39.9.59 1.41.59.51 0 1.02-.2 1.41-.59l7.78-7.78 2.81-2.81c.8-.78.8-2.07 0-2.86zM5.41 20L4 18.59l7.72-7.72 1.47 1.35L5.41 20z\"/>\n",
              "  </svg>\n",
              "      </button>\n",
              "      \n",
              "  <style>\n",
              "    .colab-df-container {\n",
              "      display:flex;\n",
              "      flex-wrap:wrap;\n",
              "      gap: 12px;\n",
              "    }\n",
              "\n",
              "    .colab-df-convert {\n",
              "      background-color: #E8F0FE;\n",
              "      border: none;\n",
              "      border-radius: 50%;\n",
              "      cursor: pointer;\n",
              "      display: none;\n",
              "      fill: #1967D2;\n",
              "      height: 32px;\n",
              "      padding: 0 0 0 0;\n",
              "      width: 32px;\n",
              "    }\n",
              "\n",
              "    .colab-df-convert:hover {\n",
              "      background-color: #E2EBFA;\n",
              "      box-shadow: 0px 1px 2px rgba(60, 64, 67, 0.3), 0px 1px 3px 1px rgba(60, 64, 67, 0.15);\n",
              "      fill: #174EA6;\n",
              "    }\n",
              "\n",
              "    [theme=dark] .colab-df-convert {\n",
              "      background-color: #3B4455;\n",
              "      fill: #D2E3FC;\n",
              "    }\n",
              "\n",
              "    [theme=dark] .colab-df-convert:hover {\n",
              "      background-color: #434B5C;\n",
              "      box-shadow: 0px 1px 3px 1px rgba(0, 0, 0, 0.15);\n",
              "      filter: drop-shadow(0px 1px 2px rgba(0, 0, 0, 0.3));\n",
              "      fill: #FFFFFF;\n",
              "    }\n",
              "  </style>\n",
              "\n",
              "      <script>\n",
              "        const buttonEl =\n",
              "          document.querySelector('#df-9ea54de3-47e1-4954-a3d5-7b1ce61472b9 button.colab-df-convert');\n",
              "        buttonEl.style.display =\n",
              "          google.colab.kernel.accessAllowed ? 'block' : 'none';\n",
              "\n",
              "        async function convertToInteractive(key) {\n",
              "          const element = document.querySelector('#df-9ea54de3-47e1-4954-a3d5-7b1ce61472b9');\n",
              "          const dataTable =\n",
              "            await google.colab.kernel.invokeFunction('convertToInteractive',\n",
              "                                                     [key], {});\n",
              "          if (!dataTable) return;\n",
              "\n",
              "          const docLinkHtml = 'Like what you see? Visit the ' +\n",
              "            '<a target=\"_blank\" href=https://colab.research.google.com/notebooks/data_table.ipynb>data table notebook</a>'\n",
              "            + ' to learn more about interactive tables.';\n",
              "          element.innerHTML = '';\n",
              "          dataTable['output_type'] = 'display_data';\n",
              "          await google.colab.output.renderOutput(dataTable, element);\n",
              "          const docLink = document.createElement('div');\n",
              "          docLink.innerHTML = docLinkHtml;\n",
              "          element.appendChild(docLink);\n",
              "        }\n",
              "      </script>\n",
              "    </div>\n",
              "  </div>\n",
              "  "
            ]
          },
          "metadata": {},
          "execution_count": 1
        }
      ]
    },
    {
      "cell_type": "markdown",
      "source": [
        "2. Exploratory data analysis"
      ],
      "metadata": {
        "id": "TJ0HO7trAJU4"
      }
    },
    {
      "cell_type": "code",
      "source": [
        "df.shape"
      ],
      "metadata": {
        "colab": {
          "base_uri": "https://localhost:8080/"
        },
        "id": "f50G1vpU_2aI",
        "outputId": "f80dd5a6-682d-49f0-d092-d92889cd96bb"
      },
      "execution_count": 2,
      "outputs": [
        {
          "output_type": "execute_result",
          "data": {
            "text/plain": [
              "(191, 9)"
            ]
          },
          "metadata": {},
          "execution_count": 2
        }
      ]
    },
    {
      "cell_type": "code",
      "source": [
        "df.size"
      ],
      "metadata": {
        "colab": {
          "base_uri": "https://localhost:8080/"
        },
        "id": "Eknh3m0CAbQk",
        "outputId": "b4bfe8c1-3097-4f92-bc34-35d5842adba9"
      },
      "execution_count": 3,
      "outputs": [
        {
          "output_type": "execute_result",
          "data": {
            "text/plain": [
              "1719"
            ]
          },
          "metadata": {},
          "execution_count": 3
        }
      ]
    },
    {
      "cell_type": "code",
      "source": [
        "df.info()"
      ],
      "metadata": {
        "colab": {
          "base_uri": "https://localhost:8080/"
        },
        "id": "roJkPNZ_AfeX",
        "outputId": "30c282f7-bb96-42a8-c5e7-22a19a005575"
      },
      "execution_count": 4,
      "outputs": [
        {
          "output_type": "stream",
          "name": "stdout",
          "text": [
            "<class 'pandas.core.frame.DataFrame'>\n",
            "RangeIndex: 191 entries, 0 to 190\n",
            "Data columns (total 9 columns):\n",
            " #   Column                                  Non-Null Count  Dtype  \n",
            "---  ------                                  --------------  -----  \n",
            " 0   HDI rank                                191 non-null    int64  \n",
            " 1   Country                                 191 non-null    object \n",
            " 2   Human Development Index (HDI)           191 non-null    float64\n",
            " 3   Life expectancy at birth                191 non-null    float64\n",
            " 4   Expected years of schooling             191 non-null    float64\n",
            " 5   Mean years of schooling                 191 non-null    float64\n",
            " 6   Gross national income (GNI) per capita  191 non-null    object \n",
            " 7   GNI per capita rank minus HDI rank      191 non-null    int64  \n",
            " 8   HDI rank.1                              191 non-null    int64  \n",
            "dtypes: float64(4), int64(3), object(2)\n",
            "memory usage: 13.6+ KB\n"
          ]
        }
      ]
    },
    {
      "cell_type": "markdown",
      "source": [
        "3. Data Visualization"
      ],
      "metadata": {
        "id": "whYPG4xXDetu"
      }
    },
    {
      "cell_type": "markdown",
      "source": [
        "4. Dividing the data into input and output"
      ],
      "metadata": {
        "id": "tK7rKQPgEgII"
      }
    },
    {
      "cell_type": "code",
      "source": [
        "#Input\n",
        "x = df.iloc[:,2:8].values\n",
        "x\n"
      ],
      "metadata": {
        "colab": {
          "base_uri": "https://localhost:8080/"
        },
        "id": "WDahaSZyEp7M",
        "outputId": "fa61d7c7-556d-46f7-d601-2c81c0ab730f"
      },
      "execution_count": 14,
      "outputs": [
        {
          "output_type": "execute_result",
          "data": {
            "text/plain": [
              "array([[0.962, 84.0, 16.5, 13.9, '66,933', 5],\n",
              "       [0.961, 83.2, 18.2, 13.0, '64,660', 6],\n",
              "       [0.959, 82.7, 19.2, 13.8, '55,782', 11],\n",
              "       ...,\n",
              "       [0.4, 61.6, 7.0, 2.1, '1,240', -3],\n",
              "       [0.394, 52.5, 8.0, 2.6, '1,364', -7],\n",
              "       [0.385, 55.0, 5.5, 5.7, '768', -1]], dtype=object)"
            ]
          },
          "metadata": {},
          "execution_count": 14
        }
      ]
    },
    {
      "cell_type": "code",
      "source": [
        "#output\n",
        "y = df.iloc[:,8].values\n",
        "y"
      ],
      "metadata": {
        "colab": {
          "base_uri": "https://localhost:8080/"
        },
        "id": "ljjIZFkYG1Rk",
        "outputId": "845ad309-af67-40a4-99c2-ba355626fcd4"
      },
      "execution_count": 15,
      "outputs": [
        {
          "output_type": "execute_result",
          "data": {
            "text/plain": [
              "array([  3,   1,   2,   4,   5,   5,   9,   8,   7,  10,  12,  10,  16,\n",
              "        13,  15,  14,  17,  17,  19,  20,  21,  22,  26,  23,  23,  25,\n",
              "        27,  28,  29,  32,  30,  30,  33,  36,  35,  34,  38,  39,  37,\n",
              "        45,  41,  43,  42,  46,  40,  44,  47,  48,  52,  54,  49,  49,\n",
              "        53,  51,  58,  59,  56,  57,  55,  60,  67,  61,  64,  62,  62,\n",
              "        64,  68,  64,  70,  71,  71,  69,  75,  73,  76,  77,  78,  79,\n",
              "        82,  82,  81,  80,  73,  85,  87,  88,  86,  88,  82,  97,  96,\n",
              "       100,  90,  93,  99,  90,  97,  94,  94,  92, 107, 106, 104, 117,\n",
              "       100, 109, 104, 107, 102, 110, 112, 113, 103, 116, 113, 113, 110,\n",
              "       119, 121, 118, 122, 126, 120, 122, 124, 129, 125, 127, 128, 131,\n",
              "       131, 130, 135, 136, 133, 137, 138, 139, 134, 142, 140, 142, 144,\n",
              "       141, 147, 148, 145, 149, 145, 152, 150, 150, 153, 154, 155, 156,\n",
              "       157, 158, 159, 160, 161, 163, 162, 163, 165, 166, 166, 168, 169,\n",
              "       170, 171, 171, 173, 173, 175, 176, 177, 179, 180, 177, 181, 182,\n",
              "       183, 185, 184, 186, 187, 188, 189, 190, 191])"
            ]
          },
          "metadata": {},
          "execution_count": 15
        }
      ]
    },
    {
      "cell_type": "markdown",
      "source": [
        "5.Train and test variables"
      ],
      "metadata": {
        "id": "dfcjzAOiHG29"
      }
    },
    {
      "cell_type": "code",
      "source": [
        "from sklearn.model_selection import train_test_split\n",
        "x_train,x_test,y_train,y_test = train_test_split(x,y)"
      ],
      "metadata": {
        "id": "w09nlmVMHKtB"
      },
      "execution_count": 16,
      "outputs": []
    },
    {
      "cell_type": "code",
      "source": [
        "print(x.shape)\n",
        "print(x_train.shape)\n",
        "print(x_test.shape)"
      ],
      "metadata": {
        "colab": {
          "base_uri": "https://localhost:8080/"
        },
        "id": "u5KOmcV8Hs_j",
        "outputId": "2a0b3965-7b41-40e1-ac40-dd298678fc6b"
      },
      "execution_count": 8,
      "outputs": [
        {
          "output_type": "stream",
          "name": "stdout",
          "text": [
            "(191, 7)\n",
            "(143, 7)\n",
            "(48, 7)\n"
          ]
        }
      ]
    },
    {
      "cell_type": "code",
      "source": [
        "print(y.shape)\n",
        "print(y_train.shape)\n",
        "print(y_test.shape)"
      ],
      "metadata": {
        "colab": {
          "base_uri": "https://localhost:8080/"
        },
        "id": "4JNN5_yUIFWL",
        "outputId": "9d06a05d-1f09-4f55-f476-29320ff1df2b"
      },
      "execution_count": 17,
      "outputs": [
        {
          "output_type": "stream",
          "name": "stdout",
          "text": [
            "(191,)\n",
            "(143,)\n",
            "(48,)\n"
          ]
        }
      ]
    },
    {
      "cell_type": "markdown",
      "source": [
        "6.Normalization/scaling"
      ],
      "metadata": {
        "id": "L9uj0Ww8It5k"
      }
    },
    {
      "cell_type": "code",
      "source": [],
      "metadata": {
        "id": "FBEF-ZFYJQLG"
      },
      "execution_count": null,
      "outputs": []
    },
    {
      "cell_type": "markdown",
      "source": [
        "7.Applying a Classifier or regressor or clusterer"
      ],
      "metadata": {
        "id": "HodxbtfyJSz6"
      }
    },
    {
      "cell_type": "code",
      "source": [
        "from sklearn.linear_model import LogisticRegression\n",
        "model = LogisticRegression()"
      ],
      "metadata": {
        "id": "sraOmNkrJaQJ"
      },
      "execution_count": 18,
      "outputs": []
    },
    {
      "cell_type": "markdown",
      "source": [
        "8.Fitting the model"
      ],
      "metadata": {
        "id": "6GC8tJdlJfiZ"
      }
    }
  ]
}